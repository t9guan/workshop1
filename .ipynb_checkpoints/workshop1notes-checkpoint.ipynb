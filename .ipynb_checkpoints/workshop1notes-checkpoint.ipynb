{
 "cells": [
  {
   "cell_type": "code",
   "execution_count": 1,
   "id": "ab8b1599-5f0b-40a3-b429-882f4236dd0d",
   "metadata": {
    "scrolled": true
   },
   "outputs": [
    {
     "name": "stdout",
     "output_type": "stream",
     "text": [
      "Requirement already satisfied: pandas in /Users/tonyguan/workshop1/lib/python3.13/site-packages (2.3.3)\n",
      "Requirement already satisfied: numpy>=1.26.0 in /Users/tonyguan/workshop1/lib/python3.13/site-packages (from pandas) (2.3.3)\n",
      "Requirement already satisfied: python-dateutil>=2.8.2 in /Users/tonyguan/workshop1/lib/python3.13/site-packages (from pandas) (2.9.0.post0)\n",
      "Requirement already satisfied: pytz>=2020.1 in /Users/tonyguan/workshop1/lib/python3.13/site-packages (from pandas) (2025.2)\n",
      "Requirement already satisfied: tzdata>=2022.7 in /Users/tonyguan/workshop1/lib/python3.13/site-packages (from pandas) (2025.2)\n",
      "Requirement already satisfied: six>=1.5 in /Users/tonyguan/workshop1/lib/python3.13/site-packages (from python-dateutil>=2.8.2->pandas) (1.17.0)\n",
      "Requirement already satisfied: numpy in /Users/tonyguan/workshop1/lib/python3.13/site-packages (2.3.3)\n",
      "Requirement already satisfied: matplotlib in /Users/tonyguan/workshop1/lib/python3.13/site-packages (3.10.6)\n",
      "Requirement already satisfied: contourpy>=1.0.1 in /Users/tonyguan/workshop1/lib/python3.13/site-packages (from matplotlib) (1.3.3)\n",
      "Requirement already satisfied: cycler>=0.10 in /Users/tonyguan/workshop1/lib/python3.13/site-packages (from matplotlib) (0.12.1)\n",
      "Requirement already satisfied: fonttools>=4.22.0 in /Users/tonyguan/workshop1/lib/python3.13/site-packages (from matplotlib) (4.60.1)\n",
      "Requirement already satisfied: kiwisolver>=1.3.1 in /Users/tonyguan/workshop1/lib/python3.13/site-packages (from matplotlib) (1.4.9)\n",
      "Requirement already satisfied: numpy>=1.23 in /Users/tonyguan/workshop1/lib/python3.13/site-packages (from matplotlib) (2.3.3)\n",
      "Requirement already satisfied: packaging>=20.0 in /Users/tonyguan/workshop1/lib/python3.13/site-packages (from matplotlib) (25.0)\n",
      "Requirement already satisfied: pillow>=8 in /Users/tonyguan/workshop1/lib/python3.13/site-packages (from matplotlib) (11.3.0)\n",
      "Requirement already satisfied: pyparsing>=2.3.1 in /Users/tonyguan/workshop1/lib/python3.13/site-packages (from matplotlib) (3.2.5)\n",
      "Requirement already satisfied: python-dateutil>=2.7 in /Users/tonyguan/workshop1/lib/python3.13/site-packages (from matplotlib) (2.9.0.post0)\n",
      "Requirement already satisfied: six>=1.5 in /Users/tonyguan/workshop1/lib/python3.13/site-packages (from python-dateutil>=2.7->matplotlib) (1.17.0)\n",
      "Requirement already satisfied: kagglehub in /Users/tonyguan/workshop1/lib/python3.13/site-packages (0.3.13)\n",
      "Requirement already satisfied: packaging in /Users/tonyguan/workshop1/lib/python3.13/site-packages (from kagglehub) (25.0)\n",
      "Requirement already satisfied: pyyaml in /Users/tonyguan/workshop1/lib/python3.13/site-packages (from kagglehub) (6.0.3)\n",
      "Requirement already satisfied: requests in /Users/tonyguan/workshop1/lib/python3.13/site-packages (from kagglehub) (2.32.5)\n",
      "Requirement already satisfied: tqdm in /Users/tonyguan/workshop1/lib/python3.13/site-packages (from kagglehub) (4.67.1)\n",
      "Requirement already satisfied: charset_normalizer<4,>=2 in /Users/tonyguan/workshop1/lib/python3.13/site-packages (from requests->kagglehub) (3.4.3)\n",
      "Requirement already satisfied: idna<4,>=2.5 in /Users/tonyguan/workshop1/lib/python3.13/site-packages (from requests->kagglehub) (3.10)\n",
      "Requirement already satisfied: urllib3<3,>=1.21.1 in /Users/tonyguan/workshop1/lib/python3.13/site-packages (from requests->kagglehub) (2.5.0)\n",
      "Requirement already satisfied: certifi>=2017.4.17 in /Users/tonyguan/workshop1/lib/python3.13/site-packages (from requests->kagglehub) (2025.8.3)\n"
     ]
    }
   ],
   "source": [
    "!pip3 install pandas\n",
    "!pip3 install numpy\n",
    "!pip3 install matplotlib\n",
    "!pip3 install kagglehub"
   ]
  },
  {
   "cell_type": "markdown",
   "id": "43cc830d-5511-4222-b809-3445edc42ce7",
   "metadata": {},
   "source": []
  },
  {
   "cell_type": "code",
   "execution_count": 2,
   "id": "aa5303e2-73ef-4c87-a801-47468ec89114",
   "metadata": {},
   "outputs": [],
   "source": [
    "import pandas as pd\n",
    "import numpy as np\n",
    "import matplotlib.pyplot as plt\n",
    "import matplotlib.axes as ax\n",
    "import matplotlib.animation as animation"
   ]
  },
  {
   "cell_type": "code",
   "execution_count": 3,
   "id": "09c54151-663b-4f6d-85d9-d5a024ea8b9c",
   "metadata": {},
   "outputs": [
    {
     "name": "stderr",
     "output_type": "stream",
     "text": [
      "/Users/tonyguan/workshop1/lib/python3.13/site-packages/tqdm/auto.py:21: TqdmWarning: IProgress not found. Please update jupyter and ipywidgets. See https://ipywidgets.readthedocs.io/en/stable/user_install.html\n",
      "  from .autonotebook import tqdm as notebook_tqdm\n"
     ]
    },
    {
     "name": "stdout",
     "output_type": "stream",
     "text": [
      "/Users/tonyguan/.cache/kagglehub/datasets/anassarfraz13/student-success-factors-and-insights/versions/1\n"
     ]
    }
   ],
   "source": [
    "import kagglehub\n",
    "\n",
    "path = kagglehub.dataset_download(\"anassarfraz13/student-success-factors-and-insights\")\n",
    "print(path)\n",
    "data = pd.read_csv(path + \"/studentPerformanceFactors.csv\")"
   ]
  },
  {
   "cell_type": "markdown",
   "id": "8d909470-f4ba-436d-b8a1-4b3025522325",
   "metadata": {},
   "source": [
    "# 🐼 Introduction to Pandas\n",
    "\n",
    "## What is Pandas?\n",
    "**Pandas** is a Python library designed for **data analysis and manipulation**.  \n",
    "It provides fast, flexible, and expressive data structures that make it easy to work with structured data.\n",
    "\n",
    "Pandas is especially useful when working with:\n",
    "- **CSV files** (spreadsheets or datasets)\n",
    "- **DataFrames** (tables similar to Excel)\n",
    "- **Series** (single columns of data)\n",
    "- **Statistical analysis** and **data cleaning**\n",
    "\n",
    "---\n",
    "\n",
    "## 💡 Why Use Pandas?\n",
    "| Task | How Pandas Helps |\n",
    "|------|------------------|\n",
    "| Load data | `pd.read_csv(\"data.csv\")` to quickly import CSV files |\n",
    "| Inspect data | `.head()`, `.info()`, `.describe()` for quick summaries |\n",
    "| Clean data | Handle missing values, remove duplicates, filter rows |\n",
    "| Analyze data | Compute averages, correlations, and summaries easily |\n",
    "| Visualize trends | Works well with Matplotlib and Seaborn for plotting |\n",
    "\n",
    "---\n",
    "\n",
    "## 🔍 Common Pandas Objects\n",
    "- **DataFrame:** A 2D table of rows and columns  \n",
    "  Example: `df = pd.DataFrame(data)`\n",
    "- **Series:** A 1D labeled array (like one column)  \n",
    "  Example: `s = df[\"Exam_Score\"]`\n",
    "\n",
    "---\n",
    "\n",
    "## 🧹 Example Uses in Our Workshop\n",
    "In this workshop, we’ll use Pandas to:\n",
    "1. **Load and explore** a dataset of student performance.\n",
    "2. **Clean the data** — handle missing values.\n",
    "3. **Select relevant features** (e.g., `Previous_Scores`, `Hours_Studied`).\n",
    "4. **Perform regression analysis** using Numpy and visualize results with Matplotlib.\n",
    "5. **Evaluate model performance** with error metrics like MSE and RMSE.\n",
    "\n",
    "---\n",
    "\n",
    "## 🧭 Key Takeaway\n",
    "Pandas is the **foundation of modern data science in Python** — it bridges the gap between raw data and actionable insights.\n",
    "\n",
    "> 🗝️ Think of Pandas as your “data spreadsheet toolbox,” built directly into Python!\n"
   ]
  },
  {
   "cell_type": "code",
   "execution_count": 4,
   "id": "cf88b076-8691-4b7c-9fbf-42ffe533a0cb",
   "metadata": {},
   "outputs": [
    {
     "name": "stdout",
     "output_type": "stream",
     "text": [
      "100000\n",
      "(10000, 10)\n",
      "Index(['College_ID', 'IQ', 'Prev_Sem_Result', 'CGPA', 'Academic_Performance',\n",
      "       'Internship_Experience', 'Extra_Curricular_Score',\n",
      "       'Communication_Skills', 'Projects_Completed', 'Placement'],\n",
      "      dtype='object')\n",
      "10\n",
      "[RangeIndex(start=0, stop=10000, step=1), Index(['College_ID', 'IQ', 'Prev_Sem_Result', 'CGPA', 'Academic_Performance',\n",
      "       'Internship_Experience', 'Extra_Curricular_Score',\n",
      "       'Communication_Skills', 'Projects_Completed', 'Placement'],\n",
      "      dtype='object')]\n"
     ]
    }
   ],
   "source": [
    "data = pd.read_csv(\"college_student_placement_dataset.csv\")\n",
    "# print(data.to_string())\n",
    "\n",
    "# removes null values from the data set\n",
    "data = data.dropna()\n",
    "\n",
    "# learn about the data set\n",
    "print(data.size)\n",
    "print(data.shape)\n",
    "\n",
    "rows = data.shape[0]\n",
    "columns = data.shape[1]\n",
    "\n",
    "print(data.columns)\n",
    "print(len(data.columns))\n",
    "\n",
    "print(data.axes)"
   ]
  },
  {
   "cell_type": "code",
   "execution_count": 5,
   "id": "6583ac57-a66a-410e-952c-f1b2efb15d53",
   "metadata": {},
   "outputs": [],
   "source": [
    "size = rows\n",
    "training_size = int(size * 0.8)\n",
    "testing_size = size - training_size\n",
    "\n",
    "# x_data = data.Prev_Sem_Result\n",
    "# y_data = data.CGPA\n",
    "\n",
    "x_data = data[\"Prev_Sem_Result\"]\n",
    "y_data = data[\"CGPA\"]\n"
   ]
  },
  {
   "cell_type": "markdown",
   "id": "5f732b95-a47e-4374-b276-12c972141263",
   "metadata": {},
   "source": [
    "# 🔢 Introduction to NumPy\n",
    "\n",
    "## What is NumPy?\n",
    "**NumPy** (Numerical Python) is a core Python library for **numerical and scientific computing**.  \n",
    "It provides powerful tools for working with **arrays**, **matrices**, and performing **mathematical operations** efficiently.\n",
    "\n",
    "Where Python lists can be slow and limited, NumPy arrays are:\n",
    "- ⚡ Faster  \n",
    "- 💾 More memory-efficient  \n",
    "- 🔗 Compatible with libraries like Pandas, Matplotlib, and Scikit-learn  \n",
    "\n",
    "---\n",
    "\n",
    "## 💡 Why Use NumPy?\n",
    "| Task | How NumPy Helps |\n",
    "|------|------------------|\n",
    "| Numerical computation | Efficiently handle large datasets and perform calculations quickly |\n",
    "| Linear algebra | Supports matrix operations, eigenvalues, and vector math |\n",
    "| Statistics | Compute mean, median, standard deviation, correlations |\n",
    "| Integration | Works seamlessly with Pandas and Matplotlib |\n",
    "| Foundation for ML | Forms the basis of most machine learning algorithms |\n",
    "\n",
    "---\n",
    "\n",
    "## 🔍 Core Concept: The NumPy Array\n",
    "The **ndarray** (N-dimensional array) is the foundation of NumPy.  \n",
    "It’s like a supercharged Python list — faster and capable of vectorized operations.\n",
    "\n",
    "### Example:\n",
    "```python\n",
    "import numpy as np\n",
    "\n",
    "arr = np.array([10, 20, 30, 40])\n",
    "print(arr * 2)     # Output: [20 40 60 80]\n",
    "```\n",
    "\n",
    "Notice how every element is multiplied at once — no loops needed!\n",
    "\n",
    "---\n",
    "\n",
    "## ⚙️ Common Operations\n",
    "| Operation | Example | Description |\n",
    "|------------|----------|-------------|\n",
    "| Create an array | `np.array([1, 2, 3])` | Create a 1D array |\n",
    "| Create a range | `np.arange(0, 10, 2)` | Like `range()`, but returns an array |\n",
    "| Random values | `np.random.rand(3, 3)` | Generate a 3×3 array of random numbers |\n",
    "| Mean & Std Dev | `np.mean(arr)`, `np.std(arr)` | Quick statistics |\n",
    "| Dot product | `np.dot(a, b)` | Multiply matrices |\n",
    "| Reshape | `arr.reshape(2, 3)` | Change the shape of an array |\n",
    "\n",
    "---\n",
    "\n",
    "## 🧮 Example Uses in Our Workshop\n",
    "In this workshop, NumPy helps us:\n",
    "1. **Perform mathematical calculations** for regression (slope, intercept, residuals).  \n",
    "2. **Compute evaluation metrics** like MSE, RMSE, and MAE.  \n",
    "3. **Manipulate arrays** for filtering and modeling.  \n",
    "4. **Integrate with Pandas** DataFrames for efficient numeric processing.  \n",
    "\n",
    "---\n",
    "\n",
    "## 🧭 Key Takeaway\n",
    "NumPy is the **mathematical engine** behind modern data science in Python.  \n",
    "It powers Pandas, machine learning, and most scientific libraries.\n",
    "\n",
    "> 🗝️ Think of NumPy as the “math brain” that makes Python fast, precise, and data-science ready.\n"
   ]
  },
  {
   "cell_type": "code",
   "execution_count": 6,
   "id": "795324da-c381-4e85-9815-32ed7ed8e784",
   "metadata": {},
   "outputs": [],
   "source": [
    "training_input = np.array(x_data[0:training_size]).reshape(training_size, 1)\n",
    "training_output = np.array(y_data[0:training_size]).reshape(training_size, 1)\n",
    "\n",
    "testing_input = np.array(x_data[training_size:size]).reshape(testing_size, 1)\n",
    "testing_output = np.array(y_data[training_size:size]).reshape(testing_size, 1)"
   ]
  },
  {
   "cell_type": "markdown",
   "id": "091133a6-89bb-41dd-bb4b-c0561b16951f",
   "metadata": {},
   "source": [
    "# 📊 Introduction to Matplotlib\n",
    "\n",
    "## What is Matplotlib?\n",
    "**Matplotlib** is Python’s most popular library for **data visualization**.  \n",
    "It allows you to create static, animated, and interactive plots that help you understand data patterns, relationships, and trends.\n",
    "\n",
    "Matplotlib gives you full control over every element of a chart:\n",
    "- Axes, labels, and titles  \n",
    "- Colors, markers, and line styles  \n",
    "- Legends, annotations, and gridlines  \n",
    "\n",
    "---\n",
    "\n",
    "## 💡 Why Use Matplotlib?\n",
    "| Task | How Matplotlib Helps |\n",
    "|------|------------------|\n",
    "| Visualize data | Create clear plots of numerical data |\n",
    "| Explore trends | See relationships between variables |\n",
    "| Debug models | Plot regression lines and residuals |\n",
    "| Compare results | Overlay multiple datasets or predictions |\n",
    "| Share insights | Turn data into understandable visuals |\n",
    "\n",
    "---\n",
    "\n",
    "## 🔍 Core Concept: The Plot\n",
    "Matplotlib works around two main objects:\n",
    "- **Figure** → The entire drawing or window  \n",
    "- **Axes** → The individual chart or subplot inside the figure  \n",
    "\n",
    "### Example:\n",
    "```python\n",
    "import matplotlib.pyplot as plt\n",
    "\n",
    "x = [1, 2, 3, 4, 5]\n",
    "y = [2, 4, 6, 8, 10]\n",
    "\n",
    "plt.scatter(x, y, color='blue', label='Data points')\n",
    "plt.plot(x, y, color='red', label='Trend line')\n",
    "plt.title(\"Simple Linear Relationship\")\n",
    "plt.xlabel(\"X values\")\n",
    "plt.ylabel(\"Y values\")\n",
    "plt.legend()\n",
    "plt.show()\n",
    "```\n",
    "\n",
    "This code produces a simple scatter plot with a line through it — great for showing relationships in regression.\n",
    "\n",
    "---\n",
    "\n",
    "## ⚙️ Common Plot Types\n",
    "| Plot Type | Function | Use Case |\n",
    "|------------|-----------|----------|\n",
    "| Line plot | `plt.plot()` | Show trends over continuous data |\n",
    "| Scatter plot | `plt.scatter()` | Show correlation between two variables |\n",
    "| Bar chart | `plt.bar()` | Compare categories |\n",
    "| Histogram | `plt.hist()` | Show distribution of data |\n",
    "| Box plot | `plt.boxplot()` | Detect outliers |\n",
    "| Pie chart | `plt.pie()` | Show proportions |\n",
    "\n",
    "---\n",
    "\n",
    "## 🎨 Styling and Customization\n",
    "Matplotlib allows full control of:\n",
    "- **Colors:** `'r'`, `'g'`, `'b'`, or HEX codes  \n",
    "- **Markers:** `'.'`, `'o'`, `'x'`  \n",
    "- **Line styles:** `'-'`, `'--'`, `':'`  \n",
    "- **Themes:** `plt.style.use('seaborn')`, `plt.style.use('ggplot')`  \n",
    "\n",
    "Example:\n",
    "```python\n",
    "plt.style.use('ggplot')\n",
    "plt.plot(x, y, marker='o', color='purple', linestyle='--')\n",
    "plt.title(\"Styled Plot Example\")\n",
    "plt.show()\n",
    "```\n",
    "\n",
    "---\n",
    "\n",
    "## 🧮 Example Uses in Our Workshop\n",
    "In this workshop, Matplotlib helps us:\n",
    "1. **Visualize data relationships** — like `CGPA` vs. `IQ` or `Previous_Scores` vs. `Exam_Score`.  \n",
    "2. **Plot regression lines** over scatter points.  \n",
    "3. **Compare model performance** before and after removing outliers.  \n",
    "4. **Create animations** to show how regression lines update.  \n",
    "\n",
    "---\n",
    "\n",
    "## 🧭 Key Takeaway\n",
    "Matplotlib turns numbers into **stories** through visuals.  \n",
    "It’s an essential tool for exploring, explaining, and presenting your data analysis.\n",
    "\n",
    "> 🗝️ Think of Matplotlib as your **data visualization paintbrush** — it helps your analysis come alive.\n"
   ]
  },
  {
   "cell_type": "code",
   "execution_count": 7,
   "id": "fff8177c-c49e-49ba-86f9-dff7bdb7bd32",
   "metadata": {},
   "outputs": [
    {
     "data": {
      "text/plain": [
       "<matplotlib.collections.PathCollection at 0x1166b9940>"
      ]
     },
     "execution_count": 7,
     "metadata": {},
     "output_type": "execute_result"
    },
    {
     "data": {
      "image/png": "[encoded data removed]",
      "text/plain": [
       "<Figure size 700x500 with 1 Axes>"
      ]
     },
     "metadata": {},
     "output_type": "display_data"
    }
   ],
   "source": [
    "plt.figure(figsize=(7,5))\n",
    "plt.scatter(training_input, training_output, color = \"blue\", label=\"training data\")"
   ]
  },
  {
   "cell_type": "code",
   "execution_count": 29,
   "id": "7e09064d-c771-4856-a865-fa5e42c399c7",
   "metadata": {},
   "outputs": [
    {
     "name": "stdout",
     "output_type": "stream",
     "text": [
      "0.9968255406313408\n",
      "0.019643307066252724\n"
     ]
    }
   ],
   "source": [
    "mean_input = np.mean(training_input)\n",
    "mean_output = np.mean(training_output)\n",
    "\n",
    "m = np.sum((training_input - mean_input) * (training_output - mean_output)) / np.sum((training_input - mean_input) ** 2)\n",
    "b = mean_output - m * mean_input\n",
    "\n",
    "predicted_data = training_input * m + b\n",
    "\n",
    "# print(predicted_data)\n",
    "\n",
    "# print(mean_input)\n",
    "# print(mean_output)\n",
    "\n",
    "print(m)\n",
    "print(b)"
   ]
  },
  {
   "cell_type": "code",
   "execution_count": 30,
   "id": "0885c2fd-e793-4c93-a607-2c708f7e9b64",
   "metadata": {},
   "outputs": [
    {
     "data": {
      "image/png": "[encoded data removed]",
      "text/plain": [
       "<Figure size 700x500 with 1 Axes>"
      ]
     },
     "metadata": {},
     "output_type": "display_data"
    }
   ],
   "source": [
    "plt.figure(figsize=(7,5))\n",
    "plt.scatter(training_input, training_output, color = \"blue\", label=\"training data\")\n",
    "plt.plot(training_input, predicted_data, color = \"red\", label=\"regression line\")\n",
    "plt.show()"
   ]
  },
  {
   "cell_type": "code",
   "execution_count": 31,
   "id": "d24cd68c-8627-4f70-8c0b-3a614c7e9ad3",
   "metadata": {},
   "outputs": [
    {
     "name": "stdout",
     "output_type": "stream",
     "text": [
      "[np.float64(0.0075185575), np.float64(0.014588483671548092), np.float64(0.02123653506770517), np.float64(0.027487872470396028), np.float64(0.03336615606281489), np.float64(0.038893634925712), np.float64(0.04409123119608716), np.float64(0.04897861920662639), np.float64(0.05357429990523208), np.float64(0.05789567083614368), np.float64(0.061959091947357346), np.float64(0.06577994747326579), np.float64(0.0693727041265936), np.float64(0.0727509658197431), np.float64(0.07592752512253806), np.float64(0.0789144116510078), np.float64(0.08172293757024544), np.float64(0.08436374038345833), np.float64(0.08684682316906278), np.float64(0.08918159241802319), np.float64(0.09137689361455756), np.float64(0.09344104469479603), np.float64(0.09538186750995215), np.float64(0.09720671741301849), np.float64(0.09892251108090033), np.float64(0.10053575267722652), np.float64(0.10205255845480028), np.float64(0.10347867989075037), np.float64(0.1048195254418928), np.float64(0.10608018100259455), np.float64(0.10726542914252231), np.float64(0.10837976719704451), np.float64(0.10942742427871477), np.float64(0.11041237727418396), np.float64(0.11133836588705023), np.float64(0.11220890678354768), np.float64(0.11302730689458072), np.float64(0.11379667592441993), np.float64(0.11451993811337452), np.float64(0.11519984329893448), np.float64(0.11583897731722193), np.float64(0.11643977178409583), np.float64(0.117004513292908), np.float64(0.11753535206370128), np.float64(0.11803431007656624), np.float64(0.1185032887199214), np.float64(0.11894407598264692), np.float64(0.11935835321727689), np.float64(0.11974770149983202), np.float64(0.12011360761034957), np.float64(0.12045746965673215), np.float64(0.120780602363188), np.float64(0.12108424204326662), np.float64(0.12136955127630075), np.float64(0.12163762330494339), np.float64(0.12188948617043416), np.float64(0.12212610660123668), np.float64(0.12234839366975621), np.float64(0.12255720223096911), np.float64(0.12275333615597128), np.float64(0.1229375513726764), np.float64(0.12311055872516577), np.float64(0.12327302666250549), np.float64(0.12342558376720147), np.float64(0.12356882113285647), np.float64(0.12370329460002272), np.float64(0.12382952685870743), np.float64(0.12394800942548409), np.float64(0.12405920450268805), np.float64(0.12416354672672898), np.float64(0.12426144481213335), np.float64(0.12435328309753545), np.float64(0.12443942299946505), np.float64(0.12452020437943054), np.float64(0.12459594682946872), np.float64(0.12466695088102385), np.float64(0.12473349914172879), np.float64(0.124795857364388), np.float64(0.124854275452206), np.float64(0.12490898840406357), np.float64(0.12496021720341749), np.float64(0.12500816965418568), np.float64(0.12505304116678007), np.float64(0.12509501549726004), np.float64(0.1251342654424025), np.float64(0.12517095349331775), np.float64(0.12520523245008333), np.float64(0.12523724599972108), np.float64(0.12526712925970312), np.float64(0.12529500928904327), np.float64(0.12532100556890652), np.float64(0.1253452304545548), np.float64(0.12536778960033876), np.float64(0.12538878235934248), np.float64(0.1254083021591936), np.float64(0.1254264368554598), np.float64(0.1254432690639685), np.float64(0.12545887647330714), np.float64(0.12547333213868558), np.float64(0.12548670475827253)]\n",
      "[np.float64(0.058636819287499996), np.float64(0.11377654451189688), np.float64(0.1656277437098095), np.float64(0.2143865458397762), np.float64(0.2602373826536651), np.float64(0.30335368632258775), np.float64(0.3438985454561345), np.float64(0.3820253219963696), np.float64(0.4178782313200311), np.float64(0.4515928877432114), np.float64(0.48329681749192904), np.float64(0.5131099410789377), np.float64(0.5411450269113961), np.float64(0.567508117845202), np.float64(0.5922989322994616), np.float64(0.6156112414483366), np.float64(0.6375332239170245), np.float64(0.6581477993235348), np.float64(0.6775329419279037), np.float64(0.6957619755752494), np.float64(0.7129038510483107), np.float64(0.7290234068785716), np.float64(0.7441816146025115), np.float64(0.7584358093906776), np.float64(0.7718399069219498), np.float64(0.7844446073233423), np.float64(0.7962975869467556), np.float64(0.8074436787080895), np.float64(0.8179250416708626), np.float64(0.8277813205157977), np.float64(0.8370497954995817), np.float64(0.8457655234700258), np.float64(0.8539614704710276), np.float64(0.8616686364389227), np.float64(0.868916172461897), np.float64(0.875731491046003), np.float64(0.8821403698048682), np.float64(0.8881670489653093), np.float64(0.8938343230576741), np.float64(0.8991636271377362), np.float64(0.9041751178662824), np.float64(0.9088877497530822), np.float64(0.9133193468536381), np.float64(0.9174866701899135), np.float64(0.9214054811500625), np.float64(0.9250906011069759), np.float64(0.9285559674811535), np.float64(0.9318146864599655), np.float64(0.9348790825727162), np.float64(0.9377607453090333), np.float64(0.9404705729569163), np.float64(0.9430188138262688), np.float64(0.9454151050138424), np.float64(0.9476685088562243), np.float64(0.9497875472087557), np.float64(0.9517802336800408), np.float64(0.9536541039439786), np.float64(0.9554162442439729), np.float64(0.9570733181971398), np.float64(0.9586315919999029), np.float64(0.960096958130316), np.float64(0.9614749576367714), np.float64(0.9627708010973995), np.float64(0.9639893883294435), np.float64(0.9651353269231575), np.float64(0.9662129496703376), np.float64(0.9672263309534072), np.float64(0.9681793021570521), np.float64(0.9690754661606987), np.float64(0.9699182109666563), np.float64(0.9707107225154706), np.float64(0.9714559967369656), np.float64(0.9721568508825558), np.float64(0.972815934181696), np.float64(0.9734357378627752), np.float64(0.9740186045763612), np.float64(0.9745667372564396), np.float64(0.9750822074531637), np.float64(0.9755669631686374), np.float64(0.9760228362253689), np.float64(0.9764515491952656), np.float64(0.9768547219153827), np.float64(0.9772338776150694), np.float64(0.9775904486776894), np.float64(0.9779257820587106), np.float64(0.9782411443806578), np.float64(0.9785377267242003), np.float64(0.9788166491334972), np.float64(0.9790789648528425), np.float64(0.9793256643106347), np.float64(0.9795576788657409), np.float64(0.9797758843304263), np.float64(0.9799811042831753), np.float64(0.9801741131839342), np.float64(0.9803556393035595), np.float64(0.9805263674785534), np.float64(0.980686941701505), np.float64(0.9808379675570374), np.float64(0.9809800145124735), np.float64(0.9811136180718854)]\n"
     ]
    }
   ],
   "source": [
    "# Initialize theta0 (intercept) and theta1 (slope)\n",
    "theta0, theta1 = 0, 0\n",
    "alpha = 0.001  # learning rate\n",
    "epochs = 100   # number of iterations\n",
    "\n",
    "# Store values for animation\n",
    "theta0_history = []\n",
    "theta1_history = []\n",
    "\n",
    "# Gradient Descent\n",
    "for _ in range(epochs):\n",
    "    y_pred = theta0 + theta1 * training_input\n",
    "    error = y_pred - training_output\n",
    "    theta0 -= alpha * error.mean()\n",
    "    theta1 -= alpha * (error * training_input).mean()\n",
    "    theta0_history.append(theta0)\n",
    "    theta1_history.append(theta1)\n",
    "\n",
    "# print(theta0_history)\n",
    "# print(theta1_history)\n"
   ]
  },
  {
   "cell_type": "code",
   "execution_count": 32,
   "id": "fb45f825-25bf-4608-a847-383e74185166",
   "metadata": {
    "scrolled": true
   },
   "outputs": [
    {
     "name": "stdout",
     "output_type": "stream",
     "text": [
      "[[0.39510793]\n",
      " [0.3311938 ]\n",
      " [0.32181191]\n",
      " ...\n",
      " [0.54932277]\n",
      " [0.55870466]\n",
      " [0.43556734]]\n",
      "[[0.39510793]\n",
      " [0.3311938 ]\n",
      " [0.32181191]\n",
      " ...\n",
      " [0.54932277]\n",
      " [0.55870466]\n",
      " [0.43556734]]\n"
     ]
    },
    {
     "data": {
      "image/png": "[encoded data removed]",
      "text/plain": [
       "<Figure size 640x480 with 1 Axes>"
      ]
     },
     "metadata": {},
     "output_type": "display_data"
    }
   ],
   "source": [
    "# Setup plot\n",
    "fig, ax = plt.subplots()\n",
    "ax.scatter(training_input, training_output, color=\"blue\", label=\"Data points\")\n",
    "ax.scatter(testing_input, testing_output, color=\"green\", label=\"Data points\")\n",
    "# line, = ax.plot([], [], \"r-\", linewidth=2, label=\"Regression line\")\n",
    "ax.legend()\n",
    "ax.set_xlabel(\"Previous Semester Result\")\n",
    "ax.set_ylabel(\"CGPA\")\n",
    "ax.set_title(\"Linear Regression Training Animation\")\n",
    "\n",
    "# Animation function\n",
    "def update(i):\n",
    "    # Use training_input for the regression line in the animation\n",
    "    y_pred_line = theta0_history[i] + theta1_history[i] * training_input\n",
    "    print(y_pred_line)\n",
    "    line.set_data(training_input, y_pred_line)  # Set data for the line\n",
    "    return line,\n",
    "\n",
    "ani = animation.FuncAnimation(fig, update, frames=len(theta0_history), interval=100, blit=True)\n",
    "\n",
    "plt.show()"
   ]
  },
  {
   "cell_type": "code",
   "execution_count": 20,
   "id": "8df88c1e-a7fe-4e7a-b3ab-a0e10b27b3bb",
   "metadata": {},
   "outputs": [
    {
     "name": "stdout",
     "output_type": "stream",
     "text": [
      "0.08512607343333611\n",
      "0.2917637287829591\n",
      "0.25366715609647555\n"
     ]
    }
   ],
   "source": [
    "mse = np.mean((testing_output - predicted_data) ** 2)\n",
    "rmse = np.sqrt(mse)\n",
    "mae = np.mean(np.abs(testing_output - predicted_data))\n",
    "\n",
    "print(mse)\n",
    "print(rmse)\n",
    "print(mae)"
   ]
  },
  {
   "cell_type": "code",
   "execution_count": null,
   "id": "72fe46fc-46c4-494c-8d1f-18f865e7f757",
   "metadata": {},
   "outputs": [],
   "source": []
  },
  {
   "cell_type": "code",
   "execution_count": null,
   "id": "84169af3-bd94-4a59-ae09-7734b27c7950",
   "metadata": {},
   "outputs": [],
   "source": []
  }
 ],
 "metadata": {
  "kernelspec": {
   "display_name": "workshop 1",
   "language": "python",
   "name": "workshop1"
  },
  "language_info": {
   "codemirror_mode": {
    "name": "ipython",
    "version": 3
   },
   "file_extension": ".py",
   "mimetype": "text/x-python",
   "name": "python",
   "nbconvert_exporter": "python",
   "pygments_lexer": "ipython3",
   "version": "3.13.7"
  }
 },
 "nbformat": 4,
 "nbformat_minor": 5
}
