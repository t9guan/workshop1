{
 "cells": [
  {
   "cell_type": "code",
   "execution_count": 1,
   "id": "ab8b1599-5f0b-40a3-b429-882f4236dd0d",
   "metadata": {
    "scrolled": true
   },
   "outputs": [
    {
     "name": "stdout",
     "output_type": "stream",
     "text": [
      "Requirement already satisfied: pandas in /Users/tonyguan/workshop1/lib/python3.13/site-packages (2.3.3)\n",
      "Requirement already satisfied: numpy>=1.26.0 in /Users/tonyguan/workshop1/lib/python3.13/site-packages (from pandas) (2.3.3)\n",
      "Requirement already satisfied: python-dateutil>=2.8.2 in /Users/tonyguan/workshop1/lib/python3.13/site-packages (from pandas) (2.9.0.post0)\n",
      "Requirement already satisfied: pytz>=2020.1 in /Users/tonyguan/workshop1/lib/python3.13/site-packages (from pandas) (2025.2)\n",
      "Requirement already satisfied: tzdata>=2022.7 in /Users/tonyguan/workshop1/lib/python3.13/site-packages (from pandas) (2025.2)\n",
      "Requirement already satisfied: six>=1.5 in /Users/tonyguan/workshop1/lib/python3.13/site-packages (from python-dateutil>=2.8.2->pandas) (1.17.0)\n",
      "Requirement already satisfied: numpy in /Users/tonyguan/workshop1/lib/python3.13/site-packages (2.3.3)\n",
      "Requirement already satisfied: matplotlib in /Users/tonyguan/workshop1/lib/python3.13/site-packages (3.10.6)\n",
      "Requirement already satisfied: contourpy>=1.0.1 in /Users/tonyguan/workshop1/lib/python3.13/site-packages (from matplotlib) (1.3.3)\n",
      "Requirement already satisfied: cycler>=0.10 in /Users/tonyguan/workshop1/lib/python3.13/site-packages (from matplotlib) (0.12.1)\n",
      "Requirement already satisfied: fonttools>=4.22.0 in /Users/tonyguan/workshop1/lib/python3.13/site-packages (from matplotlib) (4.60.1)\n",
      "Requirement already satisfied: kiwisolver>=1.3.1 in /Users/tonyguan/workshop1/lib/python3.13/site-packages (from matplotlib) (1.4.9)\n",
      "Requirement already satisfied: numpy>=1.23 in /Users/tonyguan/workshop1/lib/python3.13/site-packages (from matplotlib) (2.3.3)\n",
      "Requirement already satisfied: packaging>=20.0 in /Users/tonyguan/workshop1/lib/python3.13/site-packages (from matplotlib) (25.0)\n",
      "Requirement already satisfied: pillow>=8 in /Users/tonyguan/workshop1/lib/python3.13/site-packages (from matplotlib) (11.3.0)\n",
      "Requirement already satisfied: pyparsing>=2.3.1 in /Users/tonyguan/workshop1/lib/python3.13/site-packages (from matplotlib) (3.2.5)\n",
      "Requirement already satisfied: python-dateutil>=2.7 in /Users/tonyguan/workshop1/lib/python3.13/site-packages (from matplotlib) (2.9.0.post0)\n",
      "Requirement already satisfied: six>=1.5 in /Users/tonyguan/workshop1/lib/python3.13/site-packages (from python-dateutil>=2.7->matplotlib) (1.17.0)\n",
      "Requirement already satisfied: kagglehub in /Users/tonyguan/workshop1/lib/python3.13/site-packages (0.3.13)\n",
      "Requirement already satisfied: packaging in /Users/tonyguan/workshop1/lib/python3.13/site-packages (from kagglehub) (25.0)\n",
      "Requirement already satisfied: pyyaml in /Users/tonyguan/workshop1/lib/python3.13/site-packages (from kagglehub) (6.0.3)\n",
      "Requirement already satisfied: requests in /Users/tonyguan/workshop1/lib/python3.13/site-packages (from kagglehub) (2.32.5)\n",
      "Requirement already satisfied: tqdm in /Users/tonyguan/workshop1/lib/python3.13/site-packages (from kagglehub) (4.67.1)\n",
      "Requirement already satisfied: charset_normalizer<4,>=2 in /Users/tonyguan/workshop1/lib/python3.13/site-packages (from requests->kagglehub) (3.4.3)\n",
      "Requirement already satisfied: idna<4,>=2.5 in /Users/tonyguan/workshop1/lib/python3.13/site-packages (from requests->kagglehub) (3.10)\n",
      "Requirement already satisfied: urllib3<3,>=1.21.1 in /Users/tonyguan/workshop1/lib/python3.13/site-packages (from requests->kagglehub) (2.5.0)\n",
      "Requirement already satisfied: certifi>=2017.4.17 in /Users/tonyguan/workshop1/lib/python3.13/site-packages (from requests->kagglehub) (2025.8.3)\n"
     ]
    }
   ],
   "source": [
    "!pip3 install pandas\n",
    "!pip3 install numpy\n",
    "!pip3 install matplotlib\n",
    "!pip3 install kagglehub"
   ]
  },
  {
   "cell_type": "markdown",
   "id": "43cc830d-5511-4222-b809-3445edc42ce7",
   "metadata": {},
   "source": []
  },
  {
   "cell_type": "code",
   "execution_count": 2,
   "id": "aa5303e2-73ef-4c87-a801-47468ec89114",
   "metadata": {},
   "outputs": [],
   "source": [
    "import pandas as pd\n",
    "import numpy as np\n",
    "import matplotlib.pyplot as plt\n",
    "import matplotlib.axes as ax\n",
    "import matplotlib.animation as animation"
   ]
  },
  {
   "cell_type": "code",
   "execution_count": 3,
   "id": "09c54151-663b-4f6d-85d9-d5a024ea8b9c",
   "metadata": {
    "jupyter": {
     "source_hidden": true
    }
   },
   "outputs": [
    {
     "name": "stderr",
     "output_type": "stream",
     "text": [
      "/Users/tonyguan/workshop1/lib/python3.13/site-packages/tqdm/auto.py:21: TqdmWarning: IProgress not found. Please update jupyter and ipywidgets. See https://ipywidgets.readthedocs.io/en/stable/user_install.html\n",
      "  from .autonotebook import tqdm as notebook_tqdm\n"
     ]
    },
    {
     "name": "stdout",
     "output_type": "stream",
     "text": [
      "/Users/tonyguan/.cache/kagglehub/datasets/anassarfraz13/student-success-factors-and-insights/versions/1\n"
     ]
    }
   ],
   "source": [
    "import kagglehub\n",
    "\n",
    "path = kagglehub.dataset_download(\"anassarfraz13/student-success-factors-and-insights\")\n",
    "print(path)\n",
    "data = pd.read_csv(path + \"/studentPerformanceFactors.csv\")"
   ]
  },
  {
   "cell_type": "markdown",
   "id": "8d909470-f4ba-436d-b8a1-4b3025522325",
   "metadata": {},
   "source": [
    "# 🐼 Introduction to Pandas\n",
    "\n",
    "## What is Pandas?\n",
    "**Pandas** is a Python library designed for **data analysis and manipulation**.  \n",
    "It provides fast, flexible, and expressive data structures that make it easy to work with structured data.\n",
    "\n",
    "Pandas is especially useful when working with:\n",
    "- **CSV files** (spreadsheets or datasets)\n",
    "- **DataFrames** (tables similar to Excel)\n",
    "- **Series** (single columns of data)\n",
    "- **Statistical analysis** and **data cleaning**\n",
    "\n",
    "---\n",
    "\n",
    "## 💡 Why Use Pandas?\n",
    "| Task | How Pandas Helps |\n",
    "|------|------------------|\n",
    "| Load data | `pd.read_csv(\"data.csv\")` to quickly import CSV files |\n",
    "| Inspect data | `.head()`, `.info()`, `.describe()` for quick summaries |\n",
    "| Clean data | Handle missing values, remove duplicates, filter rows |\n",
    "| Analyze data | Compute averages, correlations, and summaries easily |\n",
    "| Visualize trends | Works well with Matplotlib and Seaborn for plotting |\n",
    "\n",
    "---\n",
    "\n",
    "## 🔍 Common Pandas Objects\n",
    "- **DataFrame:** A 2D table of rows and columns  \n",
    "  Example: `df = pd.DataFrame(data)`\n",
    "- **Series:** A 1D labeled array (like one column)  \n",
    "  Example: `s = df[\"Exam_Score\"]`\n",
    "\n",
    "---\n",
    "\n",
    "## 🧹 Example Uses in Our Workshop\n",
    "In this workshop, we’ll use Pandas to:\n",
    "1. **Load and explore** a dataset of student performance.\n",
    "2. **Clean the data** — handle missing values.\n",
    "3. **Select relevant features** (e.g., `Previous_Scores`, `Hours_Studied`).\n",
    "4. **Perform regression analysis** using Numpy and visualize results with Matplotlib.\n",
    "5. **Evaluate model performance** with error metrics like MSE and RMSE.\n",
    "\n",
    "---\n",
    "\n",
    "## 🧭 Key Takeaway\n",
    "Pandas is the **foundation of modern data science in Python** — it bridges the gap between raw data and actionable insights.\n",
    "\n",
    "> 🗝️ Think of Pandas as your “data spreadsheet toolbox,” built directly into Python!\n"
   ]
  },
  {
   "cell_type": "code",
   "execution_count": 4,
   "id": "cf88b076-8691-4b7c-9fbf-42ffe533a0cb",
   "metadata": {
    "jupyter": {
     "source_hidden": true
    }
   },
   "outputs": [
    {
     "name": "stdout",
     "output_type": "stream",
     "text": [
      "  College_ID   IQ  Prev_Sem_Result  CGPA  Academic_Performance  \\\n",
      "0    CLG0030  107             6.61  6.28                     8   \n",
      "1    CLG0061   97             5.52  5.37                     8   \n",
      "2    CLG0036  109             5.36  5.83                     9   \n",
      "3    CLG0055  122             5.47  5.75                     6   \n",
      "4    CLG0004   96             7.91  7.69                     7   \n",
      "\n",
      "  Internship_Experience  Extra_Curricular_Score  Communication_Skills  \\\n",
      "0                    No                       8                     8   \n",
      "1                    No                       7                     8   \n",
      "2                    No                       3                     1   \n",
      "3                   Yes                       1                     6   \n",
      "4                    No                       8                    10   \n",
      "\n",
      "   Projects_Completed Placement  \n",
      "0                   4        No  \n",
      "1                   0        No  \n",
      "2                   1        No  \n",
      "3                   1        No  \n",
      "4                   2        No  \n",
      "100000\n",
      "(10000, 10)\n",
      "Index(['College_ID', 'IQ', 'Prev_Sem_Result', 'CGPA', 'Academic_Performance',\n",
      "       'Internship_Experience', 'Extra_Curricular_Score',\n",
      "       'Communication_Skills', 'Projects_Completed', 'Placement'],\n",
      "      dtype='object')\n",
      "10\n",
      "[RangeIndex(start=0, stop=10000, step=1), Index(['College_ID', 'IQ', 'Prev_Sem_Result', 'CGPA', 'Academic_Performance',\n",
      "       'Internship_Experience', 'Extra_Curricular_Score',\n",
      "       'Communication_Skills', 'Projects_Completed', 'Placement'],\n",
      "      dtype='object')]\n"
     ]
    }
   ],
   "source": [
    "data = pd.read_csv(\"college_student_placement_dataset.csv\")\n",
    "# print(data.to_string())\n",
    "\n",
    "# removes null values from the data set\n",
    "data = data.dropna()\n",
    "\n",
    "# learn about the data set\n",
    "print(data.head())\n",
    "print(data.size)\n",
    "print(data.shape)\n",
    "\n",
    "rows = data.shape[0]\n",
    "columns = data.shape[1]\n",
    "\n",
    "print(data.columns)\n",
    "print(len(data.columns))\n",
    "\n",
    "print(data.axes)"
   ]
  },
  {
   "cell_type": "code",
   "execution_count": 5,
   "id": "6583ac57-a66a-410e-952c-f1b2efb15d53",
   "metadata": {
    "jupyter": {
     "source_hidden": true
    }
   },
   "outputs": [],
   "source": [
    "size = rows\n",
    "training_size = int(size * 0.8)\n",
    "testing_size = size - training_size\n",
    "\n",
    "# x_data = data.Prev_Sem_Result\n",
    "# y_data = data.CGPA\n",
    "\n",
    "x_data = data[\"Prev_Sem_Result\"]\n",
    "y_data = data[\"CGPA\"]\n"
   ]
  },
  {
   "cell_type": "markdown",
   "id": "5f732b95-a47e-4374-b276-12c972141263",
   "metadata": {},
   "source": [
    "# 🔢 Introduction to NumPy\n",
    "\n",
    "## What is NumPy?\n",
    "**NumPy** (Numerical Python) is a core Python library for **numerical and scientific computing**.  \n",
    "It provides powerful tools for working with **arrays**, **matrices**, and performing **mathematical operations** efficiently.\n",
    "\n",
    "Where Python lists can be slow and limited, NumPy arrays are:\n",
    "- ⚡ Faster  \n",
    "- 💾 More memory-efficient  \n",
    "- 🔗 Compatible with libraries like Pandas, Matplotlib, and Scikit-learn  \n",
    "\n",
    "---\n",
    "\n",
    "## 💡 Why Use NumPy?\n",
    "| Task | How NumPy Helps |\n",
    "|------|------------------|\n",
    "| Numerical computation | Efficiently handle large datasets and perform calculations quickly |\n",
    "| Linear algebra | Supports matrix operations, eigenvalues, and vector math |\n",
    "| Statistics | Compute mean, median, standard deviation, correlations |\n",
    "| Integration | Works seamlessly with Pandas and Matplotlib |\n",
    "| Foundation for ML | Forms the basis of most machine learning algorithms |\n",
    "\n",
    "---\n",
    "\n",
    "## 🔍 Core Concept: The NumPy Array\n",
    "The **ndarray** (N-dimensional array) is the foundation of NumPy.  \n",
    "It’s like a supercharged Python list — faster and capable of vectorized operations.\n",
    "\n",
    "### Example:\n",
    "```python\n",
    "import numpy as np\n",
    "\n",
    "arr = np.array([10, 20, 30, 40])\n",
    "print(arr * 2)     # Output: [20 40 60 80]\n",
    "```\n",
    "\n",
    "Notice how every element is multiplied at once — no loops needed!\n",
    "\n",
    "---\n",
    "\n",
    "## ⚙️ Common Operations\n",
    "| Operation | Example | Description |\n",
    "|------------|----------|-------------|\n",
    "| Create an array | `np.array([1, 2, 3])` | Create a 1D array |\n",
    "| Create a range | `np.arange(0, 10, 2)` | Like `range()`, but returns an array |\n",
    "| Random values | `np.random.rand(3, 3)` | Generate a 3×3 array of random numbers |\n",
    "| Mean & Std Dev | `np.mean(arr)`, `np.std(arr)` | Quick statistics |\n",
    "| Dot product | `np.dot(a, b)` | Multiply matrices |\n",
    "| Reshape | `arr.reshape(2, 3)` | Change the shape of an array |\n",
    "\n",
    "---\n",
    "\n",
    "## 🧮 Example Uses in Our Workshop\n",
    "In this workshop, NumPy helps us:\n",
    "1. **Perform mathematical calculations** for regression (slope, intercept, residuals).  \n",
    "2. **Compute evaluation metrics** like MSE, RMSE, and MAE.  \n",
    "3. **Manipulate arrays** for filtering and modeling.  \n",
    "4. **Integrate with Pandas** DataFrames for efficient numeric processing.  \n",
    "\n",
    "---\n",
    "\n",
    "## 🧭 Key Takeaway\n",
    "NumPy is the **mathematical engine** behind modern data science in Python.  \n",
    "It powers Pandas, machine learning, and most scientific libraries.\n",
    "\n",
    "> 🗝️ Think of NumPy as the “math brain” that makes Python fast, precise, and data-science ready.\n"
   ]
  },
  {
   "cell_type": "code",
   "execution_count": 6,
   "id": "795324da-c381-4e85-9815-32ed7ed8e784",
   "metadata": {
    "jupyter": {
     "source_hidden": true
    }
   },
   "outputs": [],
   "source": [
    "training_input = np.array(x_data[0:training_size]).reshape(training_size, 1)\n",
    "training_output = np.array(y_data[0:training_size]).reshape(training_size, 1)\n",
    "\n",
    "testing_input = np.array(x_data[training_size:size]).reshape(testing_size, 1)\n",
    "testing_output = np.array(y_data[training_size:size]).reshape(testing_size, 1)"
   ]
  },
  {
   "cell_type": "markdown",
   "id": "091133a6-89bb-41dd-bb4b-c0561b16951f",
   "metadata": {},
   "source": [
    "# 📊 Introduction to Matplotlib\n",
    "\n",
    "## What is Matplotlib?\n",
    "**Matplotlib** is Python’s most popular library for **data visualization**.  \n",
    "It allows you to create static, animated, and interactive plots that help you understand data patterns, relationships, and trends.\n",
    "\n",
    "Matplotlib gives you full control over every element of a chart:\n",
    "- Axes, labels, and titles  \n",
    "- Colors, markers, and line styles  \n",
    "- Legends, annotations, and gridlines  \n",
    "\n",
    "---\n",
    "\n",
    "## 💡 Why Use Matplotlib?\n",
    "| Task | How Matplotlib Helps |\n",
    "|------|------------------|\n",
    "| Visualize data | Create clear plots of numerical data |\n",
    "| Explore trends | See relationships between variables |\n",
    "| Debug models | Plot regression lines and residuals |\n",
    "| Compare results | Overlay multiple datasets or predictions |\n",
    "| Share insights | Turn data into understandable visuals |\n",
    "\n",
    "---\n",
    "\n",
    "## 🔍 Core Concept: The Plot\n",
    "Matplotlib works around two main objects:\n",
    "- **Figure** → The entire drawing or window  \n",
    "- **Axes** → The individual chart or subplot inside the figure  \n",
    "\n",
    "### Example:\n",
    "```python\n",
    "import matplotlib.pyplot as plt\n",
    "\n",
    "x = [1, 2, 3, 4, 5]\n",
    "y = [2, 4, 6, 8, 10]\n",
    "\n",
    "plt.scatter(x, y, color='blue', label='Data points')\n",
    "plt.plot(x, y, color='red', label='Trend line')\n",
    "plt.title(\"Simple Linear Relationship\")\n",
    "plt.xlabel(\"X values\")\n",
    "plt.ylabel(\"Y values\")\n",
    "plt.legend()\n",
    "plt.show()\n",
    "```\n",
    "\n",
    "This code produces a simple scatter plot with a line through it — great for showing relationships in regression.\n",
    "\n",
    "---\n",
    "\n",
    "## ⚙️ Common Plot Types\n",
    "| Plot Type | Function | Use Case |\n",
    "|------------|-----------|----------|\n",
    "| Line plot | `plt.plot()` | Show trends over continuous data |\n",
    "| Scatter plot | `plt.scatter()` | Show correlation between two variables |\n",
    "| Bar chart | `plt.bar()` | Compare categories |\n",
    "| Histogram | `plt.hist()` | Show distribution of data |\n",
    "| Box plot | `plt.boxplot()` | Detect outliers |\n",
    "| Pie chart | `plt.pie()` | Show proportions |\n",
    "\n",
    "---\n",
    "\n",
    "## 🎨 Styling and Customization\n",
    "Matplotlib allows full control of:\n",
    "- **Colors:** `'r'`, `'g'`, `'b'`, or HEX codes  \n",
    "- **Markers:** `'.'`, `'o'`, `'x'`  \n",
    "- **Line styles:** `'-'`, `'--'`, `':'`  \n",
    "- **Themes:** `plt.style.use('seaborn')`, `plt.style.use('ggplot')`  \n",
    "\n",
    "Example:\n",
    "```python\n",
    "plt.style.use('ggplot')\n",
    "plt.plot(x, y, marker='o', color='purple', linestyle='--')\n",
    "plt.title(\"Styled Plot Example\")\n",
    "plt.show()\n",
    "```\n",
    "\n",
    "---\n",
    "\n",
    "## 🧮 Example Uses in Our Workshop\n",
    "In this workshop, Matplotlib helps us:\n",
    "1. **Visualize data relationships** — like `CGPA` vs. `IQ` or `Previous_Scores` vs. `Exam_Score`.  \n",
    "2. **Plot regression lines** over scatter points.  \n",
    "3. **Compare model performance** before and after removing outliers.  \n",
    "4. **Create animations** to show how regression lines update.  \n",
    "\n",
    "---\n",
    "\n",
    "## 🧭 Key Takeaway\n",
    "Matplotlib turns numbers into **stories** through visuals.  \n",
    "It’s an essential tool for exploring, explaining, and presenting your data analysis.\n",
    "\n",
    "> 🗝️ Think of Matplotlib as your **data visualization paintbrush** — it helps your analysis come alive.\n"
   ]
  },
  {
   "cell_type": "code",
   "execution_count": 30,
   "id": "fff8177c-c49e-49ba-86f9-dff7bdb7bd32",
   "metadata": {},
   "outputs": [
    {
     "data": {
      "text/plain": [
       "<matplotlib.collections.PathCollection at 0x1240bd450>"
      ]
     },
     "execution_count": 30,
     "metadata": {},
     "output_type": "execute_result"
    },
    {
     "data": {
      "image/png": "[encoded data removed]",
      "text/plain": [
       "<Figure size 640x480 with 1 Axes>"
      ]
     },
     "metadata": {},
     "output_type": "display_data"
    }
   ],
   "source": [
    "# fig = plt.figure(figsize=(7,5))\n",
    "fig, ax = plt.subplots()\n",
    "ax.scatter(training_input, training_output, color = \"blue\", label=\"training data\")\n"
   ]
  },
  {
   "cell_type": "code",
   "execution_count": 8,
   "id": "7e09064d-c771-4856-a865-fa5e42c399c7",
   "metadata": {},
   "outputs": [
    {
     "name": "stdout",
     "output_type": "stream",
     "text": [
      "0.9968255406313408\n",
      "0.019643307066252724\n"
     ]
    }
   ],
   "source": [
    "mean_input = np.mean(training_input)\n",
    "mean_output = np.mean(training_output)\n",
    "\n",
    "m = np.sum((training_input - mean_input) * (training_output - mean_output)) / np.sum((training_input - mean_input) ** 2)\n",
    "b = mean_output - m * mean_input\n",
    "\n",
    "training_predicted_data = training_input * m + b\n",
    "\n",
    "# print(predicted_data)\n",
    "\n",
    "# print(mean_input)\n",
    "# print(mean_output)\n",
    "\n",
    "print(m)\n",
    "print(b)"
   ]
  },
  {
   "cell_type": "code",
   "execution_count": 32,
   "id": "0885c2fd-e793-4c93-a607-2c708f7e9b64",
   "metadata": {},
   "outputs": [
    {
     "data": {
      "image/png": "[encoded data removed]",
      "text/plain": [
       "<Figure size 640x480 with 1 Axes>"
      ]
     },
     "execution_count": 32,
     "metadata": {},
     "output_type": "execute_result"
    }
   ],
   "source": [
    "# plt.scatter(training_input, training_output, color = \"blue\", label=\"training data\")\n",
    "ax.plot(training_input, training_predicted_data, color = \"red\", label=\"regression line\")\n",
    "# plt.show()\n",
    "fig"
   ]
  },
  {
   "cell_type": "code",
   "execution_count": 10,
   "id": "d24cd68c-8627-4f70-8c0b-3a614c7e9ad3",
   "metadata": {},
   "outputs": [],
   "source": [
    "# Initialize theta0 (intercept) and theta1 (slope)\n",
    "theta0, theta1 = 0, 0\n",
    "alpha = 0.001  # learning rate\n",
    "epochs = 100   # number of iterations\n",
    "\n",
    "# Store values for animation\n",
    "theta0_history = []\n",
    "theta1_history = []\n",
    "\n",
    "# Gradient Descent\n",
    "for _ in range(epochs):\n",
    "    y_pred = theta0 + theta1 * training_input\n",
    "    error = y_pred - training_output\n",
    "    theta0 -= alpha * error.mean()\n",
    "    theta1 -= alpha * (error * training_input).mean()\n",
    "    theta0_history.append(theta0)\n",
    "    theta1_history.append(theta1)\n",
    "\n",
    "# print(theta0_history)\n",
    "# print(theta1_history)\n"
   ]
  },
  {
   "cell_type": "code",
   "execution_count": 20,
   "id": "fb45f825-25bf-4608-a847-383e74185166",
   "metadata": {
    "scrolled": true
   },
   "outputs": [
    {
     "data": {
      "image/png": "[encoded data removed]",
      "text/plain": [
       "<Figure size 640x480 with 1 Axes>"
      ]
     },
     "metadata": {},
     "output_type": "display_data"
    }
   ],
   "source": [
    "# Setup plot\n",
    "fig, ax = plt.subplots()\n",
    "# ax.scatter(training_input, training_output, color=\"blue\", label=\"Data points\")\n",
    "# ax.scatter(testing_input, testing_output, color=\"green\", label=\"Data points\")\n",
    "# line, = ax.plot([], [], \"r-\", linewidth=2, label=\"Regression line\")\n",
    "points, = ax.plot([],[], \"bo\", linewidth=2, label=\"data\")\n",
    "ax.legend()\n",
    "ax.set_xlabel(\"Previous Semester Result\")\n",
    "ax.set_ylabel(\"CGPA\")\n",
    "ax.set_title(\"Linear Regression Training Animation\")\n",
    "\n",
    "# Animation function\n",
    "def update(i):\n",
    "    # Use training_input for the regression line in the animation\n",
    "    # y_pred_line = theta0_history[i] + theta1_history[i] * training_input\n",
    "    # print(y_pred_line)\n",
    "    # line.set_data(training_input, y_pred_line)  # Set data for the line\n",
    "    points.set_data(training_input[:i], training_output[:i])\n",
    "    return points,\n",
    "\n",
    "ani = animation.FuncAnimation(fig, update, frames=len(training_input), interval=1000, blit=True,repeat=True)\n",
    "\n",
    "plt.show()"
   ]
  },
  {
   "cell_type": "code",
   "execution_count": 13,
   "id": "8df88c1e-a7fe-4e7a-b3ab-a0e10b27b3bb",
   "metadata": {},
   "outputs": [
    {
     "name": "stdout",
     "output_type": "stream",
     "text": [
      "0.08512607343333611\n",
      "0.2917637287829591\n",
      "0.25366715609647555\n",
      "0.9612449563219362\n"
     ]
    }
   ],
   "source": [
    "predicted_data = testing_input * m + b\n",
    "\n",
    "mse = np.mean((testing_output - predicted_data) ** 2)\n",
    "rmse = np.sqrt(mse)\n",
    "mae = np.mean(np.abs(testing_output - predicted_data))\n",
    "\n",
    "y_mean = np.mean(testing_output)\n",
    "ss_total = np.sum((testing_output - y_mean) ** 2)\n",
    "ss_residual = np.sum((testing_output - predicted_data) ** 2)\n",
    "r2 = 1 - (ss_residual / ss_total)\n",
    "\n",
    "print(mse)\n",
    "print(rmse)\n",
    "print(mae)\n",
    "print(r2)"
   ]
  },
  {
   "cell_type": "code",
   "execution_count": null,
   "id": "72fe46fc-46c4-494c-8d1f-18f865e7f757",
   "metadata": {},
   "outputs": [],
   "source": []
  },
  {
   "cell_type": "code",
   "execution_count": null,
   "id": "84169af3-bd94-4a59-ae09-7734b27c7950",
   "metadata": {},
   "outputs": [],
   "source": []
  }
 ],
 "metadata": {
  "kernelspec": {
   "display_name": "workshop 1",
   "language": "python",
   "name": "workshop1"
  },
  "language_info": {
   "codemirror_mode": {
    "name": "ipython",
    "version": 3
   },
   "file_extension": ".py",
   "mimetype": "text/x-python",
   "name": "python",
   "nbconvert_exporter": "python",
   "pygments_lexer": "ipython3",
   "version": "3.13.7"
  }
 },
 "nbformat": 4,
 "nbformat_minor": 5
}
